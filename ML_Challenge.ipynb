{
 "cells": [
  {
   "cell_type": "markdown",
   "id": "38127f84",
   "metadata": {},
   "source": [
    "# Oracle internship 2024\n",
    "\n",
    "## Hind MOUTALATTIF\n"
   ]
  },
  {
   "cell_type": "markdown",
   "id": "3a39939e",
   "metadata": {},
   "source": [
    "# Data Preparation"
   ]
  },
  {
   "cell_type": "code",
   "execution_count": 4,
   "id": "3db498c9",
   "metadata": {},
   "outputs": [],
   "source": [
    "import pandas as pd\n",
    "from sklearn.model_selection import train_test_split\n",
    "import warnings\n",
    "warnings.filterwarnings(\"ignore\")\n"
   ]
  },
  {
   "cell_type": "code",
   "execution_count": 5,
   "id": "2803d8e4",
   "metadata": {},
   "outputs": [],
   "source": [
    "train = pd.read_csv('train.csv') # importing train and test data\n",
    "test = pd.read_csv('test.csv')"
   ]
  },
  {
   "cell_type": "code",
   "execution_count": 6,
   "id": "3d55e635",
   "metadata": {},
   "outputs": [
    {
     "data": {
      "text/html": [
       "<div>\n",
       "<style scoped>\n",
       "    .dataframe tbody tr th:only-of-type {\n",
       "        vertical-align: middle;\n",
       "    }\n",
       "\n",
       "    .dataframe tbody tr th {\n",
       "        vertical-align: top;\n",
       "    }\n",
       "\n",
       "    .dataframe thead th {\n",
       "        text-align: right;\n",
       "    }\n",
       "</style>\n",
       "<table border=\"1\" class=\"dataframe\">\n",
       "  <thead>\n",
       "    <tr style=\"text-align: right;\">\n",
       "      <th></th>\n",
       "      <th>TweetId</th>\n",
       "      <th>Label</th>\n",
       "      <th>TweetText</th>\n",
       "    </tr>\n",
       "  </thead>\n",
       "  <tbody>\n",
       "    <tr>\n",
       "      <th>0</th>\n",
       "      <td>304271250237304833</td>\n",
       "      <td>Politics</td>\n",
       "      <td>'#SecKerry: The value of the @StateDept and @U...</td>\n",
       "    </tr>\n",
       "    <tr>\n",
       "      <th>1</th>\n",
       "      <td>304834304222064640</td>\n",
       "      <td>Politics</td>\n",
       "      <td>'@rraina1481 I fear so'</td>\n",
       "    </tr>\n",
       "    <tr>\n",
       "      <th>2</th>\n",
       "      <td>303568995880144898</td>\n",
       "      <td>Sports</td>\n",
       "      <td>'Watch video highlights of the #wwc13 final be...</td>\n",
       "    </tr>\n",
       "    <tr>\n",
       "      <th>3</th>\n",
       "      <td>304366580664528896</td>\n",
       "      <td>Sports</td>\n",
       "      <td>'RT @chelscanlan: At Nitro Circus at #AlbertPa...</td>\n",
       "    </tr>\n",
       "    <tr>\n",
       "      <th>4</th>\n",
       "      <td>296770931098009601</td>\n",
       "      <td>Sports</td>\n",
       "      <td>'@cricketfox Always a good thing. Thanks for t...</td>\n",
       "    </tr>\n",
       "    <tr>\n",
       "      <th>5</th>\n",
       "      <td>306713195832307712</td>\n",
       "      <td>Politics</td>\n",
       "      <td>'Dr. Rajan: Fiscal consolidation will create m...</td>\n",
       "    </tr>\n",
       "    <tr>\n",
       "      <th>6</th>\n",
       "      <td>306100962337112064</td>\n",
       "      <td>Politics</td>\n",
       "      <td>FACT: More than 800,000 defense employees will...</td>\n",
       "    </tr>\n",
       "    <tr>\n",
       "      <th>7</th>\n",
       "      <td>305951758759366657</td>\n",
       "      <td>Sports</td>\n",
       "      <td>'1st Test. Over 39: 0 runs, 1 wkt (M Wade 0, M...</td>\n",
       "    </tr>\n",
       "    <tr>\n",
       "      <th>8</th>\n",
       "      <td>304482567158104065</td>\n",
       "      <td>Sports</td>\n",
       "      <td>Some of Africa's top teams will try and take a...</td>\n",
       "    </tr>\n",
       "    <tr>\n",
       "      <th>9</th>\n",
       "      <td>303806584964935680</td>\n",
       "      <td>Sports</td>\n",
       "      <td>'Can you beat the tweet of @RoryGribbell and z...</td>\n",
       "    </tr>\n",
       "  </tbody>\n",
       "</table>\n",
       "</div>"
      ],
      "text/plain": [
       "              TweetId     Label  \\\n",
       "0  304271250237304833  Politics   \n",
       "1  304834304222064640  Politics   \n",
       "2  303568995880144898    Sports   \n",
       "3  304366580664528896    Sports   \n",
       "4  296770931098009601    Sports   \n",
       "5  306713195832307712  Politics   \n",
       "6  306100962337112064  Politics   \n",
       "7  305951758759366657    Sports   \n",
       "8  304482567158104065    Sports   \n",
       "9  303806584964935680    Sports   \n",
       "\n",
       "                                           TweetText  \n",
       "0  '#SecKerry: The value of the @StateDept and @U...  \n",
       "1                            '@rraina1481 I fear so'  \n",
       "2  'Watch video highlights of the #wwc13 final be...  \n",
       "3  'RT @chelscanlan: At Nitro Circus at #AlbertPa...  \n",
       "4  '@cricketfox Always a good thing. Thanks for t...  \n",
       "5  'Dr. Rajan: Fiscal consolidation will create m...  \n",
       "6  FACT: More than 800,000 defense employees will...  \n",
       "7  '1st Test. Over 39: 0 runs, 1 wkt (M Wade 0, M...  \n",
       "8  Some of Africa's top teams will try and take a...  \n",
       "9  'Can you beat the tweet of @RoryGribbell and z...  "
      ]
     },
     "execution_count": 6,
     "metadata": {},
     "output_type": "execute_result"
    }
   ],
   "source": [
    "train.head(10)"
   ]
  },
  {
   "cell_type": "code",
   "execution_count": 7,
   "id": "a07ca341",
   "metadata": {},
   "outputs": [
    {
     "name": "stdout",
     "output_type": "stream",
     "text": [
      "<class 'pandas.core.frame.DataFrame'>\n",
      "RangeIndex: 6525 entries, 0 to 6524\n",
      "Data columns (total 3 columns):\n",
      " #   Column     Non-Null Count  Dtype \n",
      "---  ------     --------------  ----- \n",
      " 0   TweetId    6525 non-null   int64 \n",
      " 1   Label      6525 non-null   object\n",
      " 2   TweetText  6525 non-null   object\n",
      "dtypes: int64(1), object(2)\n",
      "memory usage: 153.1+ KB\n"
     ]
    }
   ],
   "source": [
    "train.info() ## getting info about our data to see if there is any non available cells"
   ]
  },
  {
   "cell_type": "code",
   "execution_count": 8,
   "id": "2e41f88a",
   "metadata": {},
   "outputs": [
    {
     "data": {
      "text/plain": [
       "Sports      3325\n",
       "Politics    3200\n",
       "Name: Label, dtype: int64"
      ]
     },
     "execution_count": 8,
     "metadata": {},
     "output_type": "execute_result"
    }
   ],
   "source": [
    "train['Label'].value_counts() ## here we see that our data is balenced "
   ]
  },
  {
   "cell_type": "code",
   "execution_count": 9,
   "id": "3ebceed0",
   "metadata": {},
   "outputs": [],
   "source": [
    "# in this cell we try to convert our classes into numerical classes \n",
    "train['Label']=train['Label'].map({'Sports':0, 'Politics':1})"
   ]
  },
  {
   "cell_type": "code",
   "execution_count": 10,
   "id": "b341218b",
   "metadata": {},
   "outputs": [
    {
     "data": {
      "text/plain": [
       "0       1\n",
       "1       1\n",
       "2       0\n",
       "3       0\n",
       "4       0\n",
       "       ..\n",
       "6520    1\n",
       "6521    0\n",
       "6522    0\n",
       "6523    0\n",
       "6524    1\n",
       "Name: Label, Length: 6525, dtype: int64"
      ]
     },
     "execution_count": 10,
     "metadata": {},
     "output_type": "execute_result"
    }
   ],
   "source": [
    "train['Label']"
   ]
  },
  {
   "cell_type": "markdown",
   "id": "408123a7",
   "metadata": {},
   "source": [
    "# Feature extraction"
   ]
  },
  {
   "cell_type": "code",
   "execution_count": 11,
   "id": "c31cbc3b",
   "metadata": {},
   "outputs": [],
   "source": [
    "# we split data\n",
    "X = train['TweetText']  \n",
    "y = train['Label']   "
   ]
  },
  {
   "cell_type": "code",
   "execution_count": 12,
   "id": "a9179704",
   "metadata": {},
   "outputs": [],
   "source": [
    "\"\"\"Here we will convert the text into a numerical format \n",
    "using the term frequency-inverse document frequency (Tf-Idf)\n",
    "to represent each tweet:\n",
    "\"\"\"\n",
    "from sklearn.feature_extraction.text import TfidfVectorizer\n",
    "\n",
    "vectorizer = TfidfVectorizer()\n",
    "X = vectorizer.fit_transform(X)\n"
   ]
  },
  {
   "cell_type": "code",
   "execution_count": 13,
   "id": "6854ea08",
   "metadata": {},
   "outputs": [
    {
     "data": {
      "text/plain": [
       "<6525x16193 sparse matrix of type '<class 'numpy.float64'>'\n",
       "\twith 105723 stored elements in Compressed Sparse Row format>"
      ]
     },
     "execution_count": 13,
     "metadata": {},
     "output_type": "execute_result"
    }
   ],
   "source": [
    "X"
   ]
  },
  {
   "cell_type": "code",
   "execution_count": 14,
   "id": "23cd4780",
   "metadata": {},
   "outputs": [],
   "source": [
    "# here we split our converted data into train and test \n",
    "\n",
    "X_train, X_test, y_train, y_test = train_test_split(X, y, test_size=0.3, random_state=42)\n"
   ]
  },
  {
   "cell_type": "markdown",
   "id": "159bb122",
   "metadata": {},
   "source": [
    "# Model training"
   ]
  },
  {
   "cell_type": "code",
   "execution_count": 15,
   "id": "e62026de",
   "metadata": {},
   "outputs": [],
   "source": [
    "from sklearn.svm import SVC"
   ]
  },
  {
   "cell_type": "code",
   "execution_count": 16,
   "id": "0d63321c",
   "metadata": {},
   "outputs": [
    {
     "data": {
      "text/plain": [
       "SVC()"
      ]
     },
     "execution_count": 16,
     "metadata": {},
     "output_type": "execute_result"
    }
   ],
   "source": [
    "\"\"\"we start our model trainning using support vector machine \n",
    "which is more efficient for binary classification\"\"\"\n",
    "\n",
    "svm_model = SVC()\n",
    "svm_model.fit(X_train, y_train)"
   ]
  },
  {
   "cell_type": "markdown",
   "id": "7bf535ff",
   "metadata": {},
   "source": [
    "# Hyper parameter tuning"
   ]
  },
  {
   "cell_type": "code",
   "execution_count": 17,
   "id": "72829333",
   "metadata": {},
   "outputs": [],
   "source": [
    "\"\"\"For hyper parameter tuning we will use Grid Search\n",
    "that give us the best and optimal set of parameters \"\"\"\n",
    "\n",
    "from sklearn.model_selection import GridSearchCV\n",
    "param_grid = {'C': [1, 10, 100], 'kernel': ['linear', 'rbf']}\n",
    "grid_search = GridSearchCV(svm_model, param_grid, cv=5)\n",
    "grid_search.fit(X_train, y_train)\n",
    "best_params = grid_search.best_params_\n"
   ]
  },
  {
   "cell_type": "code",
   "execution_count": 78,
   "id": "cfc5db4b",
   "metadata": {},
   "outputs": [
    {
     "data": {
      "text/plain": [
       "{'C': 1, 'kernel': 'linear'}"
      ]
     },
     "execution_count": 78,
     "metadata": {},
     "output_type": "execute_result"
    }
   ],
   "source": [
    "best_params"
   ]
  },
  {
   "cell_type": "markdown",
   "id": "4f70ccaa",
   "metadata": {},
   "source": [
    "# Performance"
   ]
  },
  {
   "cell_type": "code",
   "execution_count": 79,
   "id": "e1e7fce8",
   "metadata": {},
   "outputs": [],
   "source": [
    "from sklearn.metrics import accuracy_score\n",
    "\n",
    "y_pred = svm_model.predict(X_test)\n",
    "accuracy = accuracy_score(y_test , y_pred)"
   ]
  },
  {
   "cell_type": "code",
   "execution_count": 80,
   "id": "41652874",
   "metadata": {},
   "outputs": [
    {
     "data": {
      "text/plain": [
       "0.9484167517875383"
      ]
     },
     "execution_count": 80,
     "metadata": {},
     "output_type": "execute_result"
    }
   ],
   "source": [
    "accuracy"
   ]
  },
  {
   "cell_type": "markdown",
   "id": "b2d95540",
   "metadata": {},
   "source": [
    "# Improvements"
   ]
  },
  {
   "cell_type": "markdown",
   "id": "dc59d53e",
   "metadata": {},
   "source": [
    "## to improve our work we will try a set of models:"
   ]
  },
  {
   "cell_type": "code",
   "execution_count": 51,
   "id": "4258d49f",
   "metadata": {},
   "outputs": [
    {
     "name": "stdout",
     "output_type": "stream",
     "text": [
      "Collecting xgboost\n",
      "  Downloading xgboost-1.7.6-py3-none-win_amd64.whl (70.9 MB)\n",
      "Requirement already satisfied: numpy in c:\\users\\pc\\anaconda3\\lib\\site-packages (from xgboost) (1.20.3)\n",
      "Requirement already satisfied: scipy in c:\\users\\pc\\anaconda3\\lib\\site-packages (from xgboost) (1.7.1)\n",
      "Installing collected packages: xgboost\n",
      "Successfully installed xgboost-1.7.6\n",
      "Collecting xgboost\n",
      "  Downloading xgboost-1.7.6-py3-none-win_amd64.whl (70.9 MB)\n",
      "Requirement already satisfied: scipy in c:\\users\\pc\\anaconda3\\lib\\site-packages (from xgboost) (1.7.1)\n",
      "Requirement already satisfied: numpy in c:\\users\\pc\\anaconda3\\lib\\site-packages (from xgboost) (1.20.3)\n",
      "Installing collected packages: xgboost\n",
      "Successfully installed xgboost-1.7.6\n"
     ]
    }
   ],
   "source": [
    "import sys\n",
    "!{sys.executable} -m pip install xgboost"
   ]
  },
  {
   "cell_type": "code",
   "execution_count": 81,
   "id": "0ba1e1c8",
   "metadata": {},
   "outputs": [],
   "source": [
    "from sklearn.neighbors import KNeighborsClassifier\n",
    "from sklearn.ensemble import RandomForestClassifier\n",
    "import xgboost as xgb\n",
    "from sklearn.tree import DecisionTreeClassifier\n",
    "from sklearn.linear_model import LogisticRegression\n",
    "from sklearn import svm\n",
    "\n"
   ]
  },
  {
   "cell_type": "code",
   "execution_count": 82,
   "id": "38d0517b",
   "metadata": {},
   "outputs": [],
   "source": [
    "\"\"\"this function will train each model with the data and will calculate\n",
    "the predictions of test data to give us a final report containg the accuracies of each model\"\"\"\n",
    "\n",
    "def model_training(models):\n",
    "    for element in models:\n",
    "        model = models[element]\n",
    "        model.fit(X_train, y_train)\n",
    "        y_pred = model.predict(X_test)\n",
    "        print(\"the accuracy of \"+element+\" is: {:.2f}%\".format(accuracy_score(y_test , y_pred)*100))\n",
    "        "
   ]
  },
  {
   "cell_type": "code",
   "execution_count": 83,
   "id": "e53bf8f3",
   "metadata": {},
   "outputs": [],
   "source": [
    "our_models = {\"Logistic Regression\":LogisticRegression(), \"Decision Tree\":DecisionTreeClassifier(), \"Nearest Neighbors\": KNeighborsClassifier(), \"Random Forest\":RandomForestClassifier(), \"XGBClassifier\": xgb.XGBClassifier(), \"SVM\":svm.SVC()}"
   ]
  },
  {
   "cell_type": "code",
   "execution_count": 84,
   "id": "50917307",
   "metadata": {
    "scrolled": true
   },
   "outputs": [
    {
     "name": "stdout",
     "output_type": "stream",
     "text": [
      "the accuracy of Logistic Regression is: 93.97%\n",
      "the accuracy of Decision Tree is: 84.32%\n",
      "the accuracy of Nearest Neighbors is: 92.34%\n",
      "the accuracy of Random Forest is: 91.01%\n",
      "the accuracy of XGBClassifier is: 89.99%\n",
      "the accuracy of SVM is: 94.84%\n"
     ]
    }
   ],
   "source": [
    "model_training(our_models)"
   ]
  },
  {
   "cell_type": "markdown",
   "id": "6aa348a1",
   "metadata": {},
   "source": [
    "# the best model is SVM because of its high accuracy"
   ]
  },
  {
   "cell_type": "code",
   "execution_count": 86,
   "id": "28f18455",
   "metadata": {
    "scrolled": true
   },
   "outputs": [
    {
     "data": {
      "text/html": [
       "<div>\n",
       "<style scoped>\n",
       "    .dataframe tbody tr th:only-of-type {\n",
       "        vertical-align: middle;\n",
       "    }\n",
       "\n",
       "    .dataframe tbody tr th {\n",
       "        vertical-align: top;\n",
       "    }\n",
       "\n",
       "    .dataframe thead th {\n",
       "        text-align: right;\n",
       "    }\n",
       "</style>\n",
       "<table border=\"1\" class=\"dataframe\">\n",
       "  <thead>\n",
       "    <tr style=\"text-align: right;\">\n",
       "      <th></th>\n",
       "      <th>TweetId</th>\n",
       "      <th>TweetText</th>\n",
       "    </tr>\n",
       "  </thead>\n",
       "  <tbody>\n",
       "    <tr>\n",
       "      <th>0</th>\n",
       "      <td>306486520121012224</td>\n",
       "      <td>'28. The home side threaten again through Maso...</td>\n",
       "    </tr>\n",
       "    <tr>\n",
       "      <th>1</th>\n",
       "      <td>286353402605228032</td>\n",
       "      <td>'@mrbrown @aulia Thx for asking. See http://t....</td>\n",
       "    </tr>\n",
       "    <tr>\n",
       "      <th>2</th>\n",
       "      <td>289531046037438464</td>\n",
       "      <td>'@Sochi2014 construction along the shores of t...</td>\n",
       "    </tr>\n",
       "    <tr>\n",
       "      <th>3</th>\n",
       "      <td>306451661403062273</td>\n",
       "      <td>'#SecKerry\\u2019s remarks after meeting with F...</td>\n",
       "    </tr>\n",
       "    <tr>\n",
       "      <th>4</th>\n",
       "      <td>297941800658812928</td>\n",
       "      <td>'The #IPLauction has begun. Ricky Ponting is t...</td>\n",
       "    </tr>\n",
       "    <tr>\n",
       "      <th>...</th>\n",
       "      <td>...</td>\n",
       "      <td>...</td>\n",
       "    </tr>\n",
       "    <tr>\n",
       "      <th>2605</th>\n",
       "      <td>282023761044189184</td>\n",
       "      <td>'Qualifier 1 and Eliminator games will be play...</td>\n",
       "    </tr>\n",
       "    <tr>\n",
       "      <th>2606</th>\n",
       "      <td>303879735006601216</td>\n",
       "      <td>@reesedward Hi Edward, it's not a #peacekeepin...</td>\n",
       "    </tr>\n",
       "    <tr>\n",
       "      <th>2607</th>\n",
       "      <td>297956846046703616</td>\n",
       "      <td>'Perera was @SunRisersIPL first #IPL purchase ...</td>\n",
       "    </tr>\n",
       "    <tr>\n",
       "      <th>2608</th>\n",
       "      <td>304265049537658880</td>\n",
       "      <td>'#SecKerry: Thanks to Senator @TimKaine, @RepR...</td>\n",
       "    </tr>\n",
       "    <tr>\n",
       "      <th>2609</th>\n",
       "      <td>306430391928115200</td>\n",
       "      <td>Here's a picture from our official Pinterest a...</td>\n",
       "    </tr>\n",
       "  </tbody>\n",
       "</table>\n",
       "<p>2610 rows × 2 columns</p>\n",
       "</div>"
      ],
      "text/plain": [
       "                 TweetId                                          TweetText\n",
       "0     306486520121012224  '28. The home side threaten again through Maso...\n",
       "1     286353402605228032  '@mrbrown @aulia Thx for asking. See http://t....\n",
       "2     289531046037438464  '@Sochi2014 construction along the shores of t...\n",
       "3     306451661403062273  '#SecKerry\\u2019s remarks after meeting with F...\n",
       "4     297941800658812928  'The #IPLauction has begun. Ricky Ponting is t...\n",
       "...                  ...                                                ...\n",
       "2605  282023761044189184  'Qualifier 1 and Eliminator games will be play...\n",
       "2606  303879735006601216  @reesedward Hi Edward, it's not a #peacekeepin...\n",
       "2607  297956846046703616  'Perera was @SunRisersIPL first #IPL purchase ...\n",
       "2608  304265049537658880  '#SecKerry: Thanks to Senator @TimKaine, @RepR...\n",
       "2609  306430391928115200  Here's a picture from our official Pinterest a...\n",
       "\n",
       "[2610 rows x 2 columns]"
      ]
     },
     "execution_count": 86,
     "metadata": {},
     "output_type": "execute_result"
    }
   ],
   "source": [
    "test"
   ]
  },
  {
   "cell_type": "code",
   "execution_count": 87,
   "id": "49ebf291",
   "metadata": {},
   "outputs": [],
   "source": [
    "## we will vectorize test data \n",
    "Z=test['TweetText']\n",
    "test_vectorized = vectorizer.transform(Z)"
   ]
  },
  {
   "cell_type": "code",
   "execution_count": 89,
   "id": "ca2463c0",
   "metadata": {},
   "outputs": [
    {
     "data": {
      "text/plain": [
       "<2610x16193 sparse matrix of type '<class 'numpy.float64'>'\n",
       "\twith 30777 stored elements in Compressed Sparse Row format>"
      ]
     },
     "execution_count": 89,
     "metadata": {},
     "output_type": "execute_result"
    }
   ],
   "source": [
    "test_vectorized"
   ]
  },
  {
   "cell_type": "code",
   "execution_count": 90,
   "id": "3c2838d4",
   "metadata": {},
   "outputs": [],
   "source": [
    "# here we get the predicted data of test using the best model\n",
    "test_prediction=svm_model.predict(test_vectorized)"
   ]
  },
  {
   "cell_type": "code",
   "execution_count": 91,
   "id": "cc63a388",
   "metadata": {},
   "outputs": [
    {
     "data": {
      "text/plain": [
       "array([0, 1, 1, ..., 0, 1, 1], dtype=int64)"
      ]
     },
     "execution_count": 91,
     "metadata": {},
     "output_type": "execute_result"
    }
   ],
   "source": [
    "test_prediction"
   ]
  },
  {
   "cell_type": "markdown",
   "id": "f504557f",
   "metadata": {},
   "source": [
    "\"\"\"next we try to form the dataset of submission that cpntain tweet id and labels \n",
    "so first we should convert our numerical data into primary classes :\n",
    "sports and politics and make a csv file based on this dataframe\"\"\""
   ]
  },
  {
   "cell_type": "code",
   "execution_count": 93,
   "id": "4f60b121",
   "metadata": {},
   "outputs": [],
   "source": [
    "submission=pd.DataFrame({'TweetId' : test['TweetId'] , 'Label' : test_prediction })"
   ]
  },
  {
   "cell_type": "code",
   "execution_count": 94,
   "id": "2cf2f071",
   "metadata": {},
   "outputs": [
    {
     "data": {
      "text/html": [
       "<div>\n",
       "<style scoped>\n",
       "    .dataframe tbody tr th:only-of-type {\n",
       "        vertical-align: middle;\n",
       "    }\n",
       "\n",
       "    .dataframe tbody tr th {\n",
       "        vertical-align: top;\n",
       "    }\n",
       "\n",
       "    .dataframe thead th {\n",
       "        text-align: right;\n",
       "    }\n",
       "</style>\n",
       "<table border=\"1\" class=\"dataframe\">\n",
       "  <thead>\n",
       "    <tr style=\"text-align: right;\">\n",
       "      <th></th>\n",
       "      <th>TweetId</th>\n",
       "      <th>Label</th>\n",
       "    </tr>\n",
       "  </thead>\n",
       "  <tbody>\n",
       "    <tr>\n",
       "      <th>0</th>\n",
       "      <td>306486520121012224</td>\n",
       "      <td>0</td>\n",
       "    </tr>\n",
       "    <tr>\n",
       "      <th>1</th>\n",
       "      <td>286353402605228032</td>\n",
       "      <td>1</td>\n",
       "    </tr>\n",
       "    <tr>\n",
       "      <th>2</th>\n",
       "      <td>289531046037438464</td>\n",
       "      <td>1</td>\n",
       "    </tr>\n",
       "    <tr>\n",
       "      <th>3</th>\n",
       "      <td>306451661403062273</td>\n",
       "      <td>1</td>\n",
       "    </tr>\n",
       "    <tr>\n",
       "      <th>4</th>\n",
       "      <td>297941800658812928</td>\n",
       "      <td>0</td>\n",
       "    </tr>\n",
       "    <tr>\n",
       "      <th>...</th>\n",
       "      <td>...</td>\n",
       "      <td>...</td>\n",
       "    </tr>\n",
       "    <tr>\n",
       "      <th>2605</th>\n",
       "      <td>282023761044189184</td>\n",
       "      <td>1</td>\n",
       "    </tr>\n",
       "    <tr>\n",
       "      <th>2606</th>\n",
       "      <td>303879735006601216</td>\n",
       "      <td>0</td>\n",
       "    </tr>\n",
       "    <tr>\n",
       "      <th>2607</th>\n",
       "      <td>297956846046703616</td>\n",
       "      <td>0</td>\n",
       "    </tr>\n",
       "    <tr>\n",
       "      <th>2608</th>\n",
       "      <td>304265049537658880</td>\n",
       "      <td>1</td>\n",
       "    </tr>\n",
       "    <tr>\n",
       "      <th>2609</th>\n",
       "      <td>306430391928115200</td>\n",
       "      <td>1</td>\n",
       "    </tr>\n",
       "  </tbody>\n",
       "</table>\n",
       "<p>2610 rows × 2 columns</p>\n",
       "</div>"
      ],
      "text/plain": [
       "                 TweetId  Label\n",
       "0     306486520121012224      0\n",
       "1     286353402605228032      1\n",
       "2     289531046037438464      1\n",
       "3     306451661403062273      1\n",
       "4     297941800658812928      0\n",
       "...                  ...    ...\n",
       "2605  282023761044189184      1\n",
       "2606  303879735006601216      0\n",
       "2607  297956846046703616      0\n",
       "2608  304265049537658880      1\n",
       "2609  306430391928115200      1\n",
       "\n",
       "[2610 rows x 2 columns]"
      ]
     },
     "execution_count": 94,
     "metadata": {},
     "output_type": "execute_result"
    }
   ],
   "source": [
    "submission"
   ]
  },
  {
   "cell_type": "code",
   "execution_count": 95,
   "id": "9af20641",
   "metadata": {},
   "outputs": [],
   "source": [
    "submission['Label'] = submission['Label'].map({0 : 'Sports' , 1 : 'Politics'})"
   ]
  },
  {
   "cell_type": "code",
   "execution_count": 96,
   "id": "9e7b5ae4",
   "metadata": {},
   "outputs": [
    {
     "data": {
      "text/html": [
       "<div>\n",
       "<style scoped>\n",
       "    .dataframe tbody tr th:only-of-type {\n",
       "        vertical-align: middle;\n",
       "    }\n",
       "\n",
       "    .dataframe tbody tr th {\n",
       "        vertical-align: top;\n",
       "    }\n",
       "\n",
       "    .dataframe thead th {\n",
       "        text-align: right;\n",
       "    }\n",
       "</style>\n",
       "<table border=\"1\" class=\"dataframe\">\n",
       "  <thead>\n",
       "    <tr style=\"text-align: right;\">\n",
       "      <th></th>\n",
       "      <th>TweetId</th>\n",
       "      <th>Label</th>\n",
       "    </tr>\n",
       "  </thead>\n",
       "  <tbody>\n",
       "    <tr>\n",
       "      <th>0</th>\n",
       "      <td>306486520121012224</td>\n",
       "      <td>Sports</td>\n",
       "    </tr>\n",
       "    <tr>\n",
       "      <th>1</th>\n",
       "      <td>286353402605228032</td>\n",
       "      <td>Politics</td>\n",
       "    </tr>\n",
       "    <tr>\n",
       "      <th>2</th>\n",
       "      <td>289531046037438464</td>\n",
       "      <td>Politics</td>\n",
       "    </tr>\n",
       "    <tr>\n",
       "      <th>3</th>\n",
       "      <td>306451661403062273</td>\n",
       "      <td>Politics</td>\n",
       "    </tr>\n",
       "    <tr>\n",
       "      <th>4</th>\n",
       "      <td>297941800658812928</td>\n",
       "      <td>Sports</td>\n",
       "    </tr>\n",
       "    <tr>\n",
       "      <th>...</th>\n",
       "      <td>...</td>\n",
       "      <td>...</td>\n",
       "    </tr>\n",
       "    <tr>\n",
       "      <th>2605</th>\n",
       "      <td>282023761044189184</td>\n",
       "      <td>Politics</td>\n",
       "    </tr>\n",
       "    <tr>\n",
       "      <th>2606</th>\n",
       "      <td>303879735006601216</td>\n",
       "      <td>Sports</td>\n",
       "    </tr>\n",
       "    <tr>\n",
       "      <th>2607</th>\n",
       "      <td>297956846046703616</td>\n",
       "      <td>Sports</td>\n",
       "    </tr>\n",
       "    <tr>\n",
       "      <th>2608</th>\n",
       "      <td>304265049537658880</td>\n",
       "      <td>Politics</td>\n",
       "    </tr>\n",
       "    <tr>\n",
       "      <th>2609</th>\n",
       "      <td>306430391928115200</td>\n",
       "      <td>Politics</td>\n",
       "    </tr>\n",
       "  </tbody>\n",
       "</table>\n",
       "<p>2610 rows × 2 columns</p>\n",
       "</div>"
      ],
      "text/plain": [
       "                 TweetId     Label\n",
       "0     306486520121012224    Sports\n",
       "1     286353402605228032  Politics\n",
       "2     289531046037438464  Politics\n",
       "3     306451661403062273  Politics\n",
       "4     297941800658812928    Sports\n",
       "...                  ...       ...\n",
       "2605  282023761044189184  Politics\n",
       "2606  303879735006601216    Sports\n",
       "2607  297956846046703616    Sports\n",
       "2608  304265049537658880  Politics\n",
       "2609  306430391928115200  Politics\n",
       "\n",
       "[2610 rows x 2 columns]"
      ]
     },
     "execution_count": 96,
     "metadata": {},
     "output_type": "execute_result"
    }
   ],
   "source": [
    "submission"
   ]
  },
  {
   "cell_type": "code",
   "execution_count": 97,
   "id": "7eeeca92",
   "metadata": {},
   "outputs": [],
   "source": [
    "submission.to_csv('submission.csv')"
   ]
  }
 ],
 "metadata": {
  "kernelspec": {
   "display_name": "Python 3 (ipykernel)",
   "language": "python",
   "name": "python3"
  },
  "language_info": {
   "codemirror_mode": {
    "name": "ipython",
    "version": 3
   },
   "file_extension": ".py",
   "mimetype": "text/x-python",
   "name": "python",
   "nbconvert_exporter": "python",
   "pygments_lexer": "ipython3",
   "version": "3.9.7"
  }
 },
 "nbformat": 4,
 "nbformat_minor": 5
}
